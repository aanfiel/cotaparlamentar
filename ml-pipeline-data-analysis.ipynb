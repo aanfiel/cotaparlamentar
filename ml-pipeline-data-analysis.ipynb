{
 "cells": [
  {
   "cell_type": "markdown",
   "id": "97396722",
   "metadata": {},
   "source": [
    "# Machine Learning Pipeline - Data Analysis"
   ]
  },
  {
   "cell_type": "markdown",
   "id": "7beac042",
   "metadata": {},
   "source": [
    "Neste notebook, faremos a análise de dados da base de dados de gastos dos deputados disponível em: https://brasil.io/dataset/gastos-deputados/cota_parlamentar/\n",
    "\n",
    "======================================================================================================="
   ]
  },
  {
   "cell_type": "markdown",
   "id": "5460f612",
   "metadata": {},
   "source": [
    "## Prevendo o gasto parlamentar"
   ]
  },
  {
   "cell_type": "markdown",
   "id": "22d4fbd9",
   "metadata": {},
   "source": [
    "O objetivo do projeto é criar e fazer o deploy de um modelo de Machine Learning que irá prever o gasto de um determinado parlamentar baseado em diferentes variáveis que descrevem os aspectos dos deputados."
   ]
  },
  {
   "cell_type": "markdown",
   "id": "281ad55a",
   "metadata": {},
   "source": [
    "### Porque isso é importante?"
   ]
  },
  {
   "cell_type": "markdown",
   "id": "b79c7eed",
   "metadata": {},
   "source": [
    "Prever o gasto parlamentar é útil para identificar e prever gastos ou determinar se os gastos de um determinado parlamentar estão fora do padrão, sugerindo possíveis irregularidades."
   ]
  },
  {
   "cell_type": "markdown",
   "id": "517bc7ea",
   "metadata": {},
   "source": [
    "### Qual o objetivo do Modelo de Machine Learning?"
   ]
  },
  {
   "cell_type": "markdown",
   "id": "50ccb59f",
   "metadata": {},
   "source": [
    "Buscamos minimizar a diferença entre o gasto real e o gasto estimado por nosso modelo. Nós iremos avaliar a parformance do modelo usando:\n",
    "\n",
    "1. erro quadrático médio (MSE)\n",
    "2. raiz do erro quadrátivo médio (RMSE)\n",
    "3. r-quadrado ($r^2$)."
   ]
  },
  {
   "cell_type": "markdown",
   "id": "b53d633f",
   "metadata": {},
   "source": [
    "### Como eu baixo o Dataset?"
   ]
  },
  {
   "cell_type": "markdown",
   "id": "766cb473",
   "metadata": {},
   "source": [
    "* Visite o site [brasil.io](https://brasil.io/dataset/gastos-deputados/cota_parlamentar/ \"Gastos dos deputados - Datasets - Brasil.IO\")\n",
    "* Desça até o meio da página e clique no botão \"BAIXAR DADOS COMPLETOS EM CSV para iniciar o download do dataset.\n",
    "* Extraia o arquivo chamado \"cota-parlamentar.csv\" e salve-o no diretório com os notebooks."
   ]
  },
  {
   "cell_type": "markdown",
   "id": "8b7901c2",
   "metadata": {},
   "source": [
    "## Data Analysis"
   ]
  },
  {
   "cell_type": "markdown",
   "id": "051d0e74",
   "metadata": {},
   "source": [
    "Seguindo adiante, vamos carregar nosso dataset:"
   ]
  },
  {
   "cell_type": "code",
   "execution_count": 33,
   "id": "dec7b5ff",
   "metadata": {},
   "outputs": [],
   "source": [
    "# para manipular os datasets\n",
    "import pandas as pd\n",
    "import numpy as np\n",
    "\n",
    "# para plotar gráficos\n",
    "import matplotlib.pyplot as plt\n",
    "import seaborn as sns\n",
    "\n",
    "# para mostrar todas as colunas do dataframe no notebook\n",
    "pd.pandas.set_option('display.max_columns', None)"
   ]
  },
  {
   "cell_type": "code",
   "execution_count": 34,
   "id": "7d0693e9",
   "metadata": {},
   "outputs": [
    {
     "name": "stdout",
     "output_type": "stream",
     "text": [
      "(3855649, 29)\n"
     ]
    },
    {
     "data": {
      "text/html": [
       "<div>\n",
       "<style scoped>\n",
       "    .dataframe tbody tr th:only-of-type {\n",
       "        vertical-align: middle;\n",
       "    }\n",
       "\n",
       "    .dataframe tbody tr th {\n",
       "        vertical-align: top;\n",
       "    }\n",
       "\n",
       "    .dataframe thead th {\n",
       "        text-align: right;\n",
       "    }\n",
       "</style>\n",
       "<table border=\"1\" class=\"dataframe\">\n",
       "  <thead>\n",
       "    <tr style=\"text-align: right;\">\n",
       "      <th></th>\n",
       "      <th>codlegislatura</th>\n",
       "      <th>datemissao</th>\n",
       "      <th>idedocumento</th>\n",
       "      <th>idecadastro</th>\n",
       "      <th>indtipodocumento</th>\n",
       "      <th>nucarteiraparlamentar</th>\n",
       "      <th>nudeputadoid</th>\n",
       "      <th>nulegislatura</th>\n",
       "      <th>numano</th>\n",
       "      <th>numespecificacaosubcota</th>\n",
       "      <th>numlote</th>\n",
       "      <th>nummes</th>\n",
       "      <th>numparcela</th>\n",
       "      <th>numressarcimento</th>\n",
       "      <th>numsubcota</th>\n",
       "      <th>sgpartido</th>\n",
       "      <th>sguf</th>\n",
       "      <th>txnomeparlamentar</th>\n",
       "      <th>txtcnpjcpf</th>\n",
       "      <th>txtdescricao</th>\n",
       "      <th>txtdescricaoespecificacao</th>\n",
       "      <th>txtfornecedor</th>\n",
       "      <th>txtnumero</th>\n",
       "      <th>txtpassageiro</th>\n",
       "      <th>txttrecho</th>\n",
       "      <th>vlrdocumento</th>\n",
       "      <th>vlrglosa</th>\n",
       "      <th>vlrliquido</th>\n",
       "      <th>vlrrestituicao</th>\n",
       "    </tr>\n",
       "  </thead>\n",
       "  <tbody>\n",
       "    <tr>\n",
       "      <th>0</th>\n",
       "      <td>56</td>\n",
       "      <td>2020-02-01 00:00:00</td>\n",
       "      <td>7007086</td>\n",
       "      <td>NaN</td>\n",
       "      <td>0</td>\n",
       "      <td>NaN</td>\n",
       "      <td>2442</td>\n",
       "      <td>2019</td>\n",
       "      <td>2020</td>\n",
       "      <td>0</td>\n",
       "      <td>1672803</td>\n",
       "      <td>2</td>\n",
       "      <td>0</td>\n",
       "      <td>NaN</td>\n",
       "      <td>5</td>\n",
       "      <td>PSDB</td>\n",
       "      <td>NaN</td>\n",
       "      <td>LIDERANÇA DO PSDB</td>\n",
       "      <td>27691290000113</td>\n",
       "      <td>DIVULGAÇÃO DA ATIVIDADE PARLAMENTAR.</td>\n",
       "      <td>NaN</td>\n",
       "      <td>CONTENT ASSESSORIA LTDA - ME</td>\n",
       "      <td>432</td>\n",
       "      <td>NaN</td>\n",
       "      <td>NaN</td>\n",
       "      <td>998.0</td>\n",
       "      <td>0.0</td>\n",
       "      <td>998.0</td>\n",
       "      <td>NaN</td>\n",
       "    </tr>\n",
       "    <tr>\n",
       "      <th>1</th>\n",
       "      <td>56</td>\n",
       "      <td>2020-02-13 00:00:00</td>\n",
       "      <td>7017162</td>\n",
       "      <td>NaN</td>\n",
       "      <td>4</td>\n",
       "      <td>NaN</td>\n",
       "      <td>2442</td>\n",
       "      <td>2019</td>\n",
       "      <td>2020</td>\n",
       "      <td>0</td>\n",
       "      <td>1677757</td>\n",
       "      <td>1</td>\n",
       "      <td>0</td>\n",
       "      <td>NaN</td>\n",
       "      <td>5</td>\n",
       "      <td>PSDB</td>\n",
       "      <td>NaN</td>\n",
       "      <td>LIDERANÇA DO PSDB</td>\n",
       "      <td>5265605000128</td>\n",
       "      <td>DIVULGAÇÃO DA ATIVIDADE PARLAMENTAR.</td>\n",
       "      <td>NaN</td>\n",
       "      <td>METROPOLE INTERATIVA INFORMATICA LTDA</td>\n",
       "      <td>46</td>\n",
       "      <td>NaN</td>\n",
       "      <td>NaN</td>\n",
       "      <td>4920.0</td>\n",
       "      <td>0.0</td>\n",
       "      <td>4920.0</td>\n",
       "      <td>NaN</td>\n",
       "    </tr>\n",
       "    <tr>\n",
       "      <th>2</th>\n",
       "      <td>56</td>\n",
       "      <td>2020-02-04 00:00:00</td>\n",
       "      <td>7007754</td>\n",
       "      <td>NaN</td>\n",
       "      <td>4</td>\n",
       "      <td>NaN</td>\n",
       "      <td>2442</td>\n",
       "      <td>2019</td>\n",
       "      <td>2020</td>\n",
       "      <td>0</td>\n",
       "      <td>1673164</td>\n",
       "      <td>2</td>\n",
       "      <td>0</td>\n",
       "      <td>NaN</td>\n",
       "      <td>13</td>\n",
       "      <td>PSDB</td>\n",
       "      <td>NaN</td>\n",
       "      <td>LIDERANÇA DO PSDB</td>\n",
       "      <td>4538454000171</td>\n",
       "      <td>FORNECIMENTO DE ALIMENTAÇÃO DO PARLAMENTAR</td>\n",
       "      <td>NaN</td>\n",
       "      <td>AFC ALIMENTOS LTDA</td>\n",
       "      <td>306</td>\n",
       "      <td>NaN</td>\n",
       "      <td>NaN</td>\n",
       "      <td>511.0</td>\n",
       "      <td>0.0</td>\n",
       "      <td>511.0</td>\n",
       "      <td>NaN</td>\n",
       "    </tr>\n",
       "    <tr>\n",
       "      <th>3</th>\n",
       "      <td>56</td>\n",
       "      <td>2020-02-18 00:00:00</td>\n",
       "      <td>7018634</td>\n",
       "      <td>NaN</td>\n",
       "      <td>4</td>\n",
       "      <td>NaN</td>\n",
       "      <td>2442</td>\n",
       "      <td>2019</td>\n",
       "      <td>2020</td>\n",
       "      <td>0</td>\n",
       "      <td>1678458</td>\n",
       "      <td>2</td>\n",
       "      <td>0</td>\n",
       "      <td>NaN</td>\n",
       "      <td>13</td>\n",
       "      <td>PSDB</td>\n",
       "      <td>NaN</td>\n",
       "      <td>LIDERANÇA DO PSDB</td>\n",
       "      <td>4538454000171</td>\n",
       "      <td>FORNECIMENTO DE ALIMENTAÇÃO DO PARLAMENTAR</td>\n",
       "      <td>NaN</td>\n",
       "      <td>AFC ALIMENTOS LTDA</td>\n",
       "      <td>311</td>\n",
       "      <td>NaN</td>\n",
       "      <td>NaN</td>\n",
       "      <td>186.0</td>\n",
       "      <td>0.0</td>\n",
       "      <td>186.0</td>\n",
       "      <td>NaN</td>\n",
       "    </tr>\n",
       "    <tr>\n",
       "      <th>4</th>\n",
       "      <td>56</td>\n",
       "      <td>2020-02-11 00:00:00</td>\n",
       "      <td>7011106</td>\n",
       "      <td>NaN</td>\n",
       "      <td>4</td>\n",
       "      <td>NaN</td>\n",
       "      <td>2442</td>\n",
       "      <td>2019</td>\n",
       "      <td>2020</td>\n",
       "      <td>0</td>\n",
       "      <td>1674574</td>\n",
       "      <td>2</td>\n",
       "      <td>0</td>\n",
       "      <td>NaN</td>\n",
       "      <td>13</td>\n",
       "      <td>PSDB</td>\n",
       "      <td>NaN</td>\n",
       "      <td>LIDERANÇA DO PSDB</td>\n",
       "      <td>22836210000157</td>\n",
       "      <td>FORNECIMENTO DE ALIMENTAÇÃO DO PARLAMENTAR</td>\n",
       "      <td>NaN</td>\n",
       "      <td>ARTESANAL SERVICOS DE ALIMENTACAO E BUFFET EIRELI</td>\n",
       "      <td>23</td>\n",
       "      <td>NaN</td>\n",
       "      <td>NaN</td>\n",
       "      <td>740.0</td>\n",
       "      <td>0.0</td>\n",
       "      <td>740.0</td>\n",
       "      <td>NaN</td>\n",
       "    </tr>\n",
       "  </tbody>\n",
       "</table>\n",
       "</div>"
      ],
      "text/plain": [
       "   codlegislatura           datemissao  idedocumento  idecadastro  \\\n",
       "0              56  2020-02-01 00:00:00       7007086          NaN   \n",
       "1              56  2020-02-13 00:00:00       7017162          NaN   \n",
       "2              56  2020-02-04 00:00:00       7007754          NaN   \n",
       "3              56  2020-02-18 00:00:00       7018634          NaN   \n",
       "4              56  2020-02-11 00:00:00       7011106          NaN   \n",
       "\n",
       "   indtipodocumento  nucarteiraparlamentar  nudeputadoid  nulegislatura  \\\n",
       "0                 0                    NaN          2442           2019   \n",
       "1                 4                    NaN          2442           2019   \n",
       "2                 4                    NaN          2442           2019   \n",
       "3                 4                    NaN          2442           2019   \n",
       "4                 4                    NaN          2442           2019   \n",
       "\n",
       "   numano  numespecificacaosubcota  numlote  nummes  numparcela  \\\n",
       "0    2020                        0  1672803       2           0   \n",
       "1    2020                        0  1677757       1           0   \n",
       "2    2020                        0  1673164       2           0   \n",
       "3    2020                        0  1678458       2           0   \n",
       "4    2020                        0  1674574       2           0   \n",
       "\n",
       "   numressarcimento  numsubcota sgpartido sguf  txnomeparlamentar  \\\n",
       "0               NaN           5      PSDB  NaN  LIDERANÇA DO PSDB   \n",
       "1               NaN           5      PSDB  NaN  LIDERANÇA DO PSDB   \n",
       "2               NaN          13      PSDB  NaN  LIDERANÇA DO PSDB   \n",
       "3               NaN          13      PSDB  NaN  LIDERANÇA DO PSDB   \n",
       "4               NaN          13      PSDB  NaN  LIDERANÇA DO PSDB   \n",
       "\n",
       "       txtcnpjcpf                                txtdescricao  \\\n",
       "0  27691290000113        DIVULGAÇÃO DA ATIVIDADE PARLAMENTAR.   \n",
       "1   5265605000128        DIVULGAÇÃO DA ATIVIDADE PARLAMENTAR.   \n",
       "2   4538454000171  FORNECIMENTO DE ALIMENTAÇÃO DO PARLAMENTAR   \n",
       "3   4538454000171  FORNECIMENTO DE ALIMENTAÇÃO DO PARLAMENTAR   \n",
       "4  22836210000157  FORNECIMENTO DE ALIMENTAÇÃO DO PARLAMENTAR   \n",
       "\n",
       "  txtdescricaoespecificacao  \\\n",
       "0                       NaN   \n",
       "1                       NaN   \n",
       "2                       NaN   \n",
       "3                       NaN   \n",
       "4                       NaN   \n",
       "\n",
       "                                       txtfornecedor txtnumero txtpassageiro  \\\n",
       "0                       CONTENT ASSESSORIA LTDA - ME       432           NaN   \n",
       "1              METROPOLE INTERATIVA INFORMATICA LTDA        46           NaN   \n",
       "2                                 AFC ALIMENTOS LTDA       306           NaN   \n",
       "3                                 AFC ALIMENTOS LTDA       311           NaN   \n",
       "4  ARTESANAL SERVICOS DE ALIMENTACAO E BUFFET EIRELI        23           NaN   \n",
       "\n",
       "  txttrecho  vlrdocumento  vlrglosa  vlrliquido  vlrrestituicao  \n",
       "0       NaN         998.0       0.0       998.0             NaN  \n",
       "1       NaN        4920.0       0.0      4920.0             NaN  \n",
       "2       NaN         511.0       0.0       511.0             NaN  \n",
       "3       NaN         186.0       0.0       186.0             NaN  \n",
       "4       NaN         740.0       0.0       740.0             NaN  "
      ]
     },
     "execution_count": 34,
     "metadata": {},
     "output_type": "execute_result"
    }
   ],
   "source": [
    "# carrega o dataset\n",
    "data = pd.read_csv('cota-parlamentar.csv')\n",
    "\n",
    "# linhas e colunas dos dados\n",
    "print(data.shape)\n",
    "\n",
    "# visualiza o dataset\n",
    "data.head()"
   ]
  },
  {
   "cell_type": "markdown",
   "id": "638fab5e",
   "metadata": {},
   "source": [
    "O dataset contém 3.855.649 linhas e 29 colunas.\n",
    "28 são variáveis preditivas e 1 é a variável alvo: vlrliquido"
   ]
  },
  {
   "cell_type": "markdown",
   "id": "51aaeaad",
   "metadata": {},
   "source": [
    "### O que iremos analisar"
   ]
  },
  {
   "cell_type": "markdown",
   "id": "09e6a9bf",
   "metadata": {},
   "source": [
    "**Nós iremos analisar o seguinte:**"
   ]
  },
  {
   "cell_type": "markdown",
   "id": "84f90630",
   "metadata": {},
   "source": [
    "1. A variável alvo\n",
    "2. Os tipos de variáveis (numéricas e categóricas)\n",
    "3. Dados faltantes\n",
    "4. Variáveis Numéricas\n",
    "6. Variáveis Categóricas"
   ]
  },
  {
   "cell_type": "markdown",
   "id": "2eaa1d0c",
   "metadata": {},
   "source": [
    "### A Variável Alvo"
   ]
  },
  {
   "cell_type": "markdown",
   "id": "f617a07d",
   "metadata": {},
   "source": [
    "Vamos começar analisando a distribuição alvo."
   ]
  },
  {
   "cell_type": "code",
   "execution_count": 35,
   "id": "9e0625a1",
   "metadata": {},
   "outputs": [
    {
     "data": {
      "image/png": "[encoded data removed]",
      "text/plain": [
       "<Figure size 432x288 with 1 Axes>"
      ]
     },
     "metadata": {
      "needs_background": "light"
     },
     "output_type": "display_data"
    }
   ],
   "source": [
    "# histograma para avaliar a distribuição dos valores alvo\n",
    "\n",
    "data['vlrliquido'].hist(bins=497, density=True)\n",
    "plt.ylabel('Number of ocurrences')\n",
    "plt.xlabel('Value')\n",
    "plt.show()"
   ]
  },
  {
   "cell_type": "markdown",
   "id": "459362e6",
   "metadata": {},
   "source": [
    "Pode-se observar que o atributo é contínuo, e a distribuição está desviada em direção do lado direito."
   ]
  },
  {
   "cell_type": "markdown",
   "id": "fe807e61",
   "metadata": {},
   "source": [
    "### Tipos de variáveis"
   ]
  },
  {
   "cell_type": "markdown",
   "id": "8b496d9e",
   "metadata": {},
   "source": [
    "A seguir, vamos identificar as variáveis categóricas e numéricas"
   ]
  },
  {
   "cell_type": "code",
   "execution_count": 36,
   "id": "56e852a8",
   "metadata": {},
   "outputs": [
    {
     "data": {
      "text/plain": [
       "10"
      ]
     },
     "execution_count": 36,
     "metadata": {},
     "output_type": "execute_result"
    }
   ],
   "source": [
    "# Vamos identificar as variáveis categóricas\n",
    "# capturaremos aquelas do tipo *objeto*\n",
    "\n",
    "cat_vars = [var for var in data.columns if data[var].dtype == 'O']\n",
    "\n",
    "# número de variáveis categóricas\n",
    "len(cat_vars)"
   ]
  },
  {
   "cell_type": "markdown",
   "id": "38185ace",
   "metadata": {},
   "source": [
    "Este dataset possui 10 variáveis categóricas, ou seja, variáveis que possuem um número fixo de valores possíveis."
   ]
  },
  {
   "cell_type": "code",
   "execution_count": 37,
   "id": "9caa68eb",
   "metadata": {},
   "outputs": [],
   "source": [
    "# classificar todas as variáveis como categóricas\n",
    "data[cat_vars] = data[cat_vars].astype('O')"
   ]
  },
  {
   "cell_type": "code",
   "execution_count": 38,
   "id": "ed7600f0",
   "metadata": {},
   "outputs": [
    {
     "data": {
      "text/plain": [
       "18"
      ]
     },
     "execution_count": 38,
     "metadata": {},
     "output_type": "execute_result"
    }
   ],
   "source": [
    "# agora vamos identificar as variáveis numéricas\n",
    "\n",
    "num_vars = [\n",
    "    var for var in data.columns if var not in cat_vars and var != 'vlrliquido'\n",
    "]\n",
    "\n",
    "# número de variáveis numéricas\n",
    "len(num_vars)"
   ]
  },
  {
   "cell_type": "markdown",
   "id": "00ec799d",
   "metadata": {},
   "source": [
    "Este dataset possui 18 variáveis numéricas."
   ]
  },
  {
   "cell_type": "markdown",
   "id": "b3c67a0e",
   "metadata": {},
   "source": [
    "### Dados faltantes"
   ]
  },
  {
   "cell_type": "markdown",
   "id": "5ff8fbc7",
   "metadata": {},
   "source": [
    "Vamos seguir adiante e descobrir quais variáveis do dataset contém valores faltantes."
   ]
  },
  {
   "cell_type": "code",
   "execution_count": 39,
   "id": "9a9201ea",
   "metadata": {},
   "outputs": [
    {
     "data": {
      "text/plain": [
       "vlrrestituicao               0.999702\n",
       "txtdescricaoespecificacao    0.796485\n",
       "txtpassageiro                0.742780\n",
       "txttrecho                    0.739585\n",
       "numressarcimento             0.550323\n",
       "datemissao                   0.049420\n",
       "idecadastro                  0.001428\n",
       "sguf                         0.001428\n",
       "nucarteiraparlamentar        0.001426\n",
       "vlrdocumento                 0.000004\n",
       "txtfornecedor                0.000002\n",
       "txtnumero                    0.000002\n",
       "dtype: float64"
      ]
     },
     "execution_count": 39,
     "metadata": {},
     "output_type": "execute_result"
    }
   ],
   "source": [
    "# cria uma lista de variáveis que contém valores faltantes\n",
    "vars_with_na = [var for var in data.columns if data[var].isnull().sum() > 0]\n",
    "\n",
    "# determina a porcentagem de valores faltantes (expresso em decimais)\n",
    "# e mostra o resultado ordenado por % de dados faltantes\n",
    "\n",
    "data[vars_with_na].isnull().mean().sort_values(ascending=False)"
   ]
  },
  {
   "cell_type": "markdown",
   "id": "1ec9f67e",
   "metadata": {},
   "source": [
    "Nosso dataset contém poucas variáveis com uma grande proporção de valores faltantes (5 variáveis no topo). E algumas outras variáveis com uma pequena porcentagem de observações ausentes.\n",
    "\n",
    "Isso significa que para treinar um modelo de machine learning com esse dataset, nós precisaremos imputar os dados faltantes nestas variáveis.\n",
    "\n",
    "Nós também podemos visualizar a porcentagem de valores faltantes nas variáveis conforme abaixo:"
   ]
  },
  {
   "cell_type": "code",
   "execution_count": 40,
   "id": "ab1f5184",
   "metadata": {},
   "outputs": [
    {
     "data": {
      "image/png": "[encoded data removed]",
      "text/plain": [
       "<Figure size 720x288 with 1 Axes>"
      ]
     },
     "metadata": {
      "needs_background": "light"
     },
     "output_type": "display_data"
    }
   ],
   "source": [
    "# plotar\n",
    "\n",
    "data[vars_with_na].isnull().mean().sort_values(\n",
    "    ascending=False).plot.bar(figsize=(10, 4))\n",
    "plt.ylabel('Porcentagem de dados faltantes')\n",
    "plt.axhline(y=0.90, color='r', linestyle='-')\n",
    "plt.axhline(y=0.80, color='g', linestyle='-')\n",
    "\n",
    "plt.show()"
   ]
  },
  {
   "cell_type": "code",
   "execution_count": 41,
   "id": "0e15d815",
   "metadata": {},
   "outputs": [
    {
     "name": "stdout",
     "output_type": "stream",
     "text": [
      "Número de variáveis categóricas com dados faltantes:  7\n",
      "Número de variáveis numéricas com dados faltantes:  5\n"
     ]
    }
   ],
   "source": [
    "# agora nós podemos determinar quais variáveis, daquelas com dados faltantes,\n",
    "# são numéricas e quais são categóricas\n",
    "\n",
    "cat_na = [var for var in cat_vars if var in vars_with_na]\n",
    "num_na = [var for var in num_vars if var in vars_with_na]\n",
    "\n",
    "print('Número de variáveis categóricas com dados faltantes: ', len(cat_na))\n",
    "print('Número de variáveis numéricas com dados faltantes: ', len(num_na))"
   ]
  },
  {
   "cell_type": "code",
   "execution_count": 42,
   "id": "3e1efa12",
   "metadata": {},
   "outputs": [
    {
     "data": {
      "text/plain": [
       "['idecadastro',\n",
       " 'nucarteiraparlamentar',\n",
       " 'numressarcimento',\n",
       " 'vlrdocumento',\n",
       " 'vlrrestituicao']"
      ]
     },
     "execution_count": 42,
     "metadata": {},
     "output_type": "execute_result"
    }
   ],
   "source": [
    "num_na"
   ]
  },
  {
   "cell_type": "markdown",
   "id": "172970ce",
   "metadata": {},
   "source": [
    "Acima, podemos ver quais variáveis numéricas possuem dados faltantes."
   ]
  },
  {
   "cell_type": "code",
   "execution_count": 43,
   "id": "8504f4e6",
   "metadata": {},
   "outputs": [
    {
     "data": {
      "text/plain": [
       "['datemissao',\n",
       " 'sguf',\n",
       " 'txtdescricaoespecificacao',\n",
       " 'txtfornecedor',\n",
       " 'txtnumero',\n",
       " 'txtpassageiro',\n",
       " 'txttrecho']"
      ]
     },
     "execution_count": 43,
     "metadata": {},
     "output_type": "execute_result"
    }
   ],
   "source": [
    "cat_na"
   ]
  },
  {
   "cell_type": "markdown",
   "id": "8b841e2b",
   "metadata": {},
   "source": [
    "E acima, podemos ver quais variáveis categóricas possuem dados faltantes."
   ]
  },
  {
   "cell_type": "markdown",
   "id": "012fb5d0",
   "metadata": {},
   "source": [
    "#### Relacionamento entre os dados faltantes e o valor líquido"
   ]
  },
  {
   "cell_type": "markdown",
   "id": "91683295",
   "metadata": {},
   "source": [
    "Vamos avaliar o valor líquido naquelas observações onde a informação está faltando. Nós iremos fazer isso para cada variável que mostra dados ausentes."
   ]
  },
  {
   "cell_type": "code",
   "execution_count": 44,
   "id": "b4cc1abb",
   "metadata": {},
   "outputs": [],
   "source": [
    "def analyse_na_value(df, var):\n",
    "\n",
    "    # faz uma cópia do dataframe, de modo a não sobrescrever os dados originais\n",
    "    # ver o link para mais detalhes sobre pandas.copy()\n",
    "    # https://pandas.pydata.org/pandas-docs/stable/reference/api/pandas.DataFrame.copy.html\n",
    "    df = df.copy()\n",
    "\n",
    "    # vamos fazer uma variável ínterim que indica 1 se a\n",
    "    # observação é ausente ou 0 se há observação\n",
    "    df[var] = np.where(df[var].isnull(), 1, 0)\n",
    "\n",
    "    # Vamos comparar o valor médio do valor líquido nas observações onde os dados estão faltando\n",
    "    # vs as observações onde os dados estão disponíveis\n",
    "\n",
    "    # determina o valor líquido médio nos grupos 1 e 0,\n",
    "    # e o desvio padrão do valor líquido,\n",
    "    # e nós capturamos o resultado em um dataset temporário\n",
    "    tmp = df.groupby(var)['vlrliquido'].agg(['mean', 'std'])\n",
    "\n",
    "    # plota em um gráfico de barras\n",
    "    tmp.plot(kind=\"barh\", y=\"mean\", legend=False,\n",
    "             xerr=\"std\", title=\"Valor líquido\", color='green')\n",
    "\n",
    "    plt.show()"
   ]
  },
  {
   "cell_type": "code",
   "execution_count": 45,
   "id": "77ddfe40",
   "metadata": {},
   "outputs": [
    {
     "data": {
      "image/png": "[encoded data removed]",
      "text/plain": [
       "<Figure size 432x288 with 1 Axes>"
      ]
     },
     "metadata": {
      "needs_background": "light"
     },
     "output_type": "display_data"
    },
    {
     "data": {
      "image/png": "[encoded data removed]",
      "text/plain": [
       "<Figure size 432x288 with 1 Axes>"
      ]
     },
     "metadata": {
      "needs_background": "light"
     },
     "output_type": "display_data"
    },
    {
     "data": {
      "image/png": "[encoded data removed]",
      "text/plain": [
       "<Figure size 432x288 with 1 Axes>"
      ]
     },
     "metadata": {
      "needs_background": "light"
     },
     "output_type": "display_data"
    },
    {
     "data": {
      "image/png": "[encoded data removed]",
      "text/plain": [
       "<Figure size 432x288 with 1 Axes>"
      ]
     },
     "metadata": {
      "needs_background": "light"
     },
     "output_type": "display_data"
    },
    {
     "data": {
      "image/png": "[encoded data removed]",
      "text/plain": [
       "<Figure size 432x288 with 1 Axes>"
      ]
     },
     "metadata": {
      "needs_background": "light"
     },
     "output_type": "display_data"
    },
    {
     "data": {
      "image/png": "[encoded data removed]",
      "text/plain": [
       "<Figure size 432x288 with 1 Axes>"
      ]
     },
     "metadata": {
      "needs_background": "light"
     },
     "output_type": "display_data"
    },
    {
     "data": {
      "image/png": "[encoded data removed]",
      "text/plain": [
       "<Figure size 432x288 with 1 Axes>"
      ]
     },
     "metadata": {
      "needs_background": "light"
     },
     "output_type": "display_data"
    },
    {
     "data": {
      "image/png": "[encoded data removed]",
      "text/plain": [
       "<Figure size 432x288 with 1 Axes>"
      ]
     },
     "metadata": {
      "needs_background": "light"
     },
     "output_type": "display_data"
    },
    {
     "data": {
      "image/png": "[encoded data removed]",
      "text/plain": [
       "<Figure size 432x288 with 1 Axes>"
      ]
     },
     "metadata": {
      "needs_background": "light"
     },
     "output_type": "display_data"
    },
    {
     "data": {
      "image/png": "[encoded data removed]",
      "text/plain": [
       "<Figure size 432x288 with 1 Axes>"
      ]
     },
     "metadata": {
      "needs_background": "light"
     },
     "output_type": "display_data"
    },
    {
     "data": {
      "image/png": "[encoded data removed]",
      "text/plain": [
       "<Figure size 432x288 with 1 Axes>"
      ]
     },
     "metadata": {
      "needs_background": "light"
     },
     "output_type": "display_data"
    },
    {
     "data": {
      "image/png": "[encoded data removed]",
      "text/plain": [
       "<Figure size 432x288 with 1 Axes>"
      ]
     },
     "metadata": {
      "needs_background": "light"
     },
     "output_type": "display_data"
    }
   ],
   "source": [
    "# vamos rodar a função em cada variável com dados ausentes\n",
    "\n",
    "for var in vars_with_na:\n",
    "    analyse_na_value(data, var)"
   ]
  },
  {
   "cell_type": "markdown",
   "id": "8fe02d78",
   "metadata": {},
   "source": [
    "### Variáveis Numéricas"
   ]
  },
  {
   "cell_type": "markdown",
   "id": "49a70227",
   "metadata": {},
   "source": [
    "Vamos seguir adiante e descobrir quais variáveis numéricas nós temos no dataset."
   ]
  },
  {
   "cell_type": "code",
   "execution_count": 46,
   "id": "5612e0ce",
   "metadata": {},
   "outputs": [
    {
     "name": "stdout",
     "output_type": "stream",
     "text": [
      "Número de variáveis numéricas:  18\n"
     ]
    },
    {
     "data": {
      "text/html": [
       "<div>\n",
       "<style scoped>\n",
       "    .dataframe tbody tr th:only-of-type {\n",
       "        vertical-align: middle;\n",
       "    }\n",
       "\n",
       "    .dataframe tbody tr th {\n",
       "        vertical-align: top;\n",
       "    }\n",
       "\n",
       "    .dataframe thead th {\n",
       "        text-align: right;\n",
       "    }\n",
       "</style>\n",
       "<table border=\"1\" class=\"dataframe\">\n",
       "  <thead>\n",
       "    <tr style=\"text-align: right;\">\n",
       "      <th></th>\n",
       "      <th>codlegislatura</th>\n",
       "      <th>idedocumento</th>\n",
       "      <th>idecadastro</th>\n",
       "      <th>indtipodocumento</th>\n",
       "      <th>nucarteiraparlamentar</th>\n",
       "      <th>nudeputadoid</th>\n",
       "      <th>nulegislatura</th>\n",
       "      <th>numano</th>\n",
       "      <th>numespecificacaosubcota</th>\n",
       "      <th>numlote</th>\n",
       "      <th>nummes</th>\n",
       "      <th>numparcela</th>\n",
       "      <th>numressarcimento</th>\n",
       "      <th>numsubcota</th>\n",
       "      <th>txtcnpjcpf</th>\n",
       "      <th>vlrdocumento</th>\n",
       "      <th>vlrglosa</th>\n",
       "      <th>vlrrestituicao</th>\n",
       "    </tr>\n",
       "  </thead>\n",
       "  <tbody>\n",
       "    <tr>\n",
       "      <th>0</th>\n",
       "      <td>56</td>\n",
       "      <td>7007086</td>\n",
       "      <td>NaN</td>\n",
       "      <td>0</td>\n",
       "      <td>NaN</td>\n",
       "      <td>2442</td>\n",
       "      <td>2019</td>\n",
       "      <td>2020</td>\n",
       "      <td>0</td>\n",
       "      <td>1672803</td>\n",
       "      <td>2</td>\n",
       "      <td>0</td>\n",
       "      <td>NaN</td>\n",
       "      <td>5</td>\n",
       "      <td>27691290000113</td>\n",
       "      <td>998.0</td>\n",
       "      <td>0.0</td>\n",
       "      <td>NaN</td>\n",
       "    </tr>\n",
       "    <tr>\n",
       "      <th>1</th>\n",
       "      <td>56</td>\n",
       "      <td>7017162</td>\n",
       "      <td>NaN</td>\n",
       "      <td>4</td>\n",
       "      <td>NaN</td>\n",
       "      <td>2442</td>\n",
       "      <td>2019</td>\n",
       "      <td>2020</td>\n",
       "      <td>0</td>\n",
       "      <td>1677757</td>\n",
       "      <td>1</td>\n",
       "      <td>0</td>\n",
       "      <td>NaN</td>\n",
       "      <td>5</td>\n",
       "      <td>5265605000128</td>\n",
       "      <td>4920.0</td>\n",
       "      <td>0.0</td>\n",
       "      <td>NaN</td>\n",
       "    </tr>\n",
       "    <tr>\n",
       "      <th>2</th>\n",
       "      <td>56</td>\n",
       "      <td>7007754</td>\n",
       "      <td>NaN</td>\n",
       "      <td>4</td>\n",
       "      <td>NaN</td>\n",
       "      <td>2442</td>\n",
       "      <td>2019</td>\n",
       "      <td>2020</td>\n",
       "      <td>0</td>\n",
       "      <td>1673164</td>\n",
       "      <td>2</td>\n",
       "      <td>0</td>\n",
       "      <td>NaN</td>\n",
       "      <td>13</td>\n",
       "      <td>4538454000171</td>\n",
       "      <td>511.0</td>\n",
       "      <td>0.0</td>\n",
       "      <td>NaN</td>\n",
       "    </tr>\n",
       "    <tr>\n",
       "      <th>3</th>\n",
       "      <td>56</td>\n",
       "      <td>7018634</td>\n",
       "      <td>NaN</td>\n",
       "      <td>4</td>\n",
       "      <td>NaN</td>\n",
       "      <td>2442</td>\n",
       "      <td>2019</td>\n",
       "      <td>2020</td>\n",
       "      <td>0</td>\n",
       "      <td>1678458</td>\n",
       "      <td>2</td>\n",
       "      <td>0</td>\n",
       "      <td>NaN</td>\n",
       "      <td>13</td>\n",
       "      <td>4538454000171</td>\n",
       "      <td>186.0</td>\n",
       "      <td>0.0</td>\n",
       "      <td>NaN</td>\n",
       "    </tr>\n",
       "    <tr>\n",
       "      <th>4</th>\n",
       "      <td>56</td>\n",
       "      <td>7011106</td>\n",
       "      <td>NaN</td>\n",
       "      <td>4</td>\n",
       "      <td>NaN</td>\n",
       "      <td>2442</td>\n",
       "      <td>2019</td>\n",
       "      <td>2020</td>\n",
       "      <td>0</td>\n",
       "      <td>1674574</td>\n",
       "      <td>2</td>\n",
       "      <td>0</td>\n",
       "      <td>NaN</td>\n",
       "      <td>13</td>\n",
       "      <td>22836210000157</td>\n",
       "      <td>740.0</td>\n",
       "      <td>0.0</td>\n",
       "      <td>NaN</td>\n",
       "    </tr>\n",
       "  </tbody>\n",
       "</table>\n",
       "</div>"
      ],
      "text/plain": [
       "   codlegislatura  idedocumento  idecadastro  indtipodocumento  \\\n",
       "0              56       7007086          NaN                 0   \n",
       "1              56       7017162          NaN                 4   \n",
       "2              56       7007754          NaN                 4   \n",
       "3              56       7018634          NaN                 4   \n",
       "4              56       7011106          NaN                 4   \n",
       "\n",
       "   nucarteiraparlamentar  nudeputadoid  nulegislatura  numano  \\\n",
       "0                    NaN          2442           2019    2020   \n",
       "1                    NaN          2442           2019    2020   \n",
       "2                    NaN          2442           2019    2020   \n",
       "3                    NaN          2442           2019    2020   \n",
       "4                    NaN          2442           2019    2020   \n",
       "\n",
       "   numespecificacaosubcota  numlote  nummes  numparcela  numressarcimento  \\\n",
       "0                        0  1672803       2           0               NaN   \n",
       "1                        0  1677757       1           0               NaN   \n",
       "2                        0  1673164       2           0               NaN   \n",
       "3                        0  1678458       2           0               NaN   \n",
       "4                        0  1674574       2           0               NaN   \n",
       "\n",
       "   numsubcota      txtcnpjcpf  vlrdocumento  vlrglosa  vlrrestituicao  \n",
       "0           5  27691290000113         998.0       0.0             NaN  \n",
       "1           5   5265605000128        4920.0       0.0             NaN  \n",
       "2          13   4538454000171         511.0       0.0             NaN  \n",
       "3          13   4538454000171         186.0       0.0             NaN  \n",
       "4          13  22836210000157         740.0       0.0             NaN  "
      ]
     },
     "execution_count": 46,
     "metadata": {},
     "output_type": "execute_result"
    }
   ],
   "source": [
    "print('Número de variáveis numéricas: ', len(num_vars))\n",
    "\n",
    "# visualiza as variáveis numéricas\n",
    "data[num_vars].head()"
   ]
  },
  {
   "cell_type": "markdown",
   "id": "eb3ebf11",
   "metadata": {},
   "source": [
    "#### Variáveis temporais"
   ]
  },
  {
   "cell_type": "markdown",
   "id": "7b7ef934",
   "metadata": {},
   "source": [
    "Nós temos 3 variáveis temporais no dataset:\n",
    "\n",
    "* numlegislatura: Legislatura vigente durante o registro\n",
    "* numano: Ano do registro\n",
    "* nummes: Mês do registro"
   ]
  },
  {
   "cell_type": "markdown",
   "id": "77975153",
   "metadata": {},
   "source": [
    "Geralmente, não se usa variáveis de data no seu formato normal. Ao invés disso, nós extraimos informações deles. Por exemplo, nós podemos capturar a diferença em anos entre o ano atual e o ano que o gasto foi feito."
   ]
  },
  {
   "cell_type": "code",
   "execution_count": 47,
   "id": "f0dc2f74",
   "metadata": {},
   "outputs": [
    {
     "data": {
      "text/plain": [
       "['nulegislatura', 'numano']"
      ]
     },
     "execution_count": 47,
     "metadata": {},
     "output_type": "execute_result"
    }
   ],
   "source": [
    "# Lista de variáveis que contém informação de ano\n",
    "\n",
    "year_vars = [var for var in num_vars if 'ano' in var or 'nuleg' in var]\n",
    "\n",
    "year_vars"
   ]
  },
  {
   "cell_type": "code",
   "execution_count": 48,
   "id": "0be2ccf6",
   "metadata": {},
   "outputs": [
    {
     "data": {
      "text/plain": [
       "['nummes']"
      ]
     },
     "execution_count": 48,
     "metadata": {},
     "output_type": "execute_result"
    }
   ],
   "source": [
    "# Lista de variáveis que contém informação de mês\n",
    "\n",
    "month_vars = [var for var in num_vars if 'nummes' in var]\n",
    "\n",
    "month_vars"
   ]
  },
  {
   "cell_type": "code",
   "execution_count": 49,
   "id": "8916098c",
   "metadata": {},
   "outputs": [
    {
     "name": "stdout",
     "output_type": "stream",
     "text": [
      "nulegislatura [2019 2015 2011 2007]\n",
      "\n",
      "numano [2020 2016 2019 2012 2017 2013 2009 2018 2011 2014 2010 2015]\n",
      "\n"
     ]
    }
   ],
   "source": [
    "# vamos explorar os valores destas variáveis temporais\n",
    "\n",
    "for var in year_vars:\n",
    "    print(var, data[var].unique())\n",
    "    print()"
   ]
  },
  {
   "cell_type": "code",
   "execution_count": 50,
   "id": "ee579363",
   "metadata": {},
   "outputs": [
    {
     "name": "stdout",
     "output_type": "stream",
     "text": [
      "nummes [ 2  1  3  6  8 10 11  4 12  9  5  7]\n",
      "\n"
     ]
    }
   ],
   "source": [
    "# vamos explorar os valores destas variáveis temporais\n",
    "\n",
    "for var in month_vars:\n",
    "    print(var, data[var].unique())\n",
    "    print()"
   ]
  },
  {
   "cell_type": "markdown",
   "id": "0637aa2c",
   "metadata": {},
   "source": [
    "Conforme esperado, os valores são anos e meses.\n",
    "\n",
    "Nós podemos explorar a evolução dos gastos parlamentares por ano:"
   ]
  },
  {
   "cell_type": "code",
   "execution_count": 51,
   "id": "0b8d3b14",
   "metadata": {},
   "outputs": [
    {
     "data": {
      "text/plain": [
       "Text(0, 0.5, 'Gasto parlamentar mediano por ano')"
      ]
     },
     "execution_count": 51,
     "metadata": {},
     "output_type": "execute_result"
    },
    {
     "data": {
      "image/png": "[encoded data removed]",
      "text/plain": [
       "<Figure size 432x288 with 1 Axes>"
      ]
     },
     "metadata": {
      "needs_background": "light"
     },
     "output_type": "display_data"
    }
   ],
   "source": [
    "# plota a mediana do gasto anual vs o ano em que o gasto foi feito\n",
    "\n",
    "data.groupby('numano')['vlrliquido'].median().plot()\n",
    "plt.ylabel('Gasto parlamentar mediano por ano')"
   ]
  },
  {
   "cell_type": "code",
   "execution_count": 52,
   "id": "9ea9590b",
   "metadata": {},
   "outputs": [
    {
     "data": {
      "text/plain": [
       "Text(0, 0.5, 'Gasto parlamentar mediano por legislatura')"
      ]
     },
     "execution_count": 52,
     "metadata": {},
     "output_type": "execute_result"
    },
    {
     "data": {
      "image/png": "[encoded data removed]",
      "text/plain": [
       "<Figure size 432x288 with 1 Axes>"
      ]
     },
     "metadata": {
      "needs_background": "light"
     },
     "output_type": "display_data"
    }
   ],
   "source": [
    "# plota a mediana do gasto anual vs a legislatura em que o gasto foi feito\n",
    "\n",
    "data.groupby('nulegislatura')['vlrliquido'].median().plot()\n",
    "plt.ylabel('Gasto parlamentar mediano por legislatura')"
   ]
  },
  {
   "cell_type": "code",
   "execution_count": 53,
   "id": "5ee06f5c",
   "metadata": {},
   "outputs": [
    {
     "data": {
      "text/plain": [
       "Text(0, 0.5, 'Gasto parlamentar mediano por mês')"
      ]
     },
     "execution_count": 53,
     "metadata": {},
     "output_type": "execute_result"
    },
    {
     "data": {
      "image/png": "[encoded data removed]",
      "text/plain": [
       "<Figure size 432x288 with 1 Axes>"
      ]
     },
     "metadata": {
      "needs_background": "light"
     },
     "output_type": "display_data"
    }
   ],
   "source": [
    "# plota a mediana do gasto anual vs o mês em que o gasto foi feito\n",
    "\n",
    "data.groupby('nummes')['vlrliquido'].median().plot()\n",
    "plt.ylabel('Gasto parlamentar mediano por mês')"
   ]
  },
  {
   "cell_type": "markdown",
   "id": "475f2a71",
   "metadata": {},
   "source": [
    "#### Variáveis discretas"
   ]
  },
  {
   "cell_type": "code",
   "execution_count": 65,
   "id": "d280a394",
   "metadata": {},
   "outputs": [
    {
     "name": "stdout",
     "output_type": "stream",
     "text": [
      "Número de variáveis discretas:  5\n"
     ]
    }
   ],
   "source": [
    "# Vamos fazer uma lista de variáveis discretas\n",
    "discrete_vars = [var for var in num_vars if len(\n",
    "    data[var].unique()) < 20 and var not in year_vars+month_vars]\n",
    "\n",
    "\n",
    "print('Número de variáveis discretas: ', len(discrete_vars))"
   ]
  },
  {
   "cell_type": "code",
   "execution_count": 66,
   "id": "697b49ba",
   "metadata": {},
   "outputs": [
    {
     "data": {
      "text/html": [
       "<div>\n",
       "<style scoped>\n",
       "    .dataframe tbody tr th:only-of-type {\n",
       "        vertical-align: middle;\n",
       "    }\n",
       "\n",
       "    .dataframe tbody tr th {\n",
       "        vertical-align: top;\n",
       "    }\n",
       "\n",
       "    .dataframe thead th {\n",
       "        text-align: right;\n",
       "    }\n",
       "</style>\n",
       "<table border=\"1\" class=\"dataframe\">\n",
       "  <thead>\n",
       "    <tr style=\"text-align: right;\">\n",
       "      <th></th>\n",
       "      <th>codlegislatura</th>\n",
       "      <th>indtipodocumento</th>\n",
       "      <th>numespecificacaosubcota</th>\n",
       "      <th>numparcela</th>\n",
       "      <th>numressarcimento</th>\n",
       "    </tr>\n",
       "  </thead>\n",
       "  <tbody>\n",
       "    <tr>\n",
       "      <th>0</th>\n",
       "      <td>56</td>\n",
       "      <td>0</td>\n",
       "      <td>0</td>\n",
       "      <td>0</td>\n",
       "      <td>NaN</td>\n",
       "    </tr>\n",
       "    <tr>\n",
       "      <th>1</th>\n",
       "      <td>56</td>\n",
       "      <td>4</td>\n",
       "      <td>0</td>\n",
       "      <td>0</td>\n",
       "      <td>NaN</td>\n",
       "    </tr>\n",
       "    <tr>\n",
       "      <th>2</th>\n",
       "      <td>56</td>\n",
       "      <td>4</td>\n",
       "      <td>0</td>\n",
       "      <td>0</td>\n",
       "      <td>NaN</td>\n",
       "    </tr>\n",
       "    <tr>\n",
       "      <th>3</th>\n",
       "      <td>56</td>\n",
       "      <td>4</td>\n",
       "      <td>0</td>\n",
       "      <td>0</td>\n",
       "      <td>NaN</td>\n",
       "    </tr>\n",
       "    <tr>\n",
       "      <th>4</th>\n",
       "      <td>56</td>\n",
       "      <td>4</td>\n",
       "      <td>0</td>\n",
       "      <td>0</td>\n",
       "      <td>NaN</td>\n",
       "    </tr>\n",
       "  </tbody>\n",
       "</table>\n",
       "</div>"
      ],
      "text/plain": [
       "   codlegislatura  indtipodocumento  numespecificacaosubcota  numparcela  \\\n",
       "0              56                 0                        0           0   \n",
       "1              56                 4                        0           0   \n",
       "2              56                 4                        0           0   \n",
       "3              56                 4                        0           0   \n",
       "4              56                 4                        0           0   \n",
       "\n",
       "   numressarcimento  \n",
       "0               NaN  \n",
       "1               NaN  \n",
       "2               NaN  \n",
       "3               NaN  \n",
       "4               NaN  "
      ]
     },
     "execution_count": 66,
     "metadata": {},
     "output_type": "execute_result"
    }
   ],
   "source": [
    "# Vamos visualizar as variáveis discretas\n",
    "\n",
    "data[discrete_vars].head()"
   ]
  },
  {
   "cell_type": "markdown",
   "id": "14a79a7e",
   "metadata": {},
   "source": [
    "Vamos analisar abaixo a contribuição dessas variáveis para o gasto realizado."
   ]
  },
  {
   "cell_type": "code",
   "execution_count": 67,
   "id": "fc6b028f",
   "metadata": {},
   "outputs": [
    {
     "data": {
      "image/png": "[encoded data removed]",
      "text/plain": [
       "<Figure size 432x288 with 1 Axes>"
      ]
     },
     "metadata": {
      "needs_background": "light"
     },
     "output_type": "display_data"
    },
    {
     "data": {
      "image/png": "[encoded data removed]",
      "text/plain": [
       "<Figure size 432x288 with 1 Axes>"
      ]
     },
     "metadata": {
      "needs_background": "light"
     },
     "output_type": "display_data"
    },
    {
     "data": {
      "image/png": "[encoded data removed]",
      "text/plain": [
       "<Figure size 432x288 with 1 Axes>"
      ]
     },
     "metadata": {
      "needs_background": "light"
     },
     "output_type": "display_data"
    },
    {
     "data": {
      "image/png": "[encoded data removed]",
      "text/plain": [
       "<Figure size 432x288 with 1 Axes>"
      ]
     },
     "metadata": {
      "needs_background": "light"
     },
     "output_type": "display_data"
    },
    {
     "data": {
      "image/png": "[encoded data removed]",
      "text/plain": [
       "<Figure size 432x288 with 1 Axes>"
      ]
     },
     "metadata": {
      "needs_background": "light"
     },
     "output_type": "display_data"
    }
   ],
   "source": [
    "for var in discrete_vars:\n",
    "    # cria um boxplot com Catplot\n",
    "    sns.catplot(x=var, y='vlrliquido', data=data, kind=\"box\", height=4, aspect=1.5)\n",
    "    # adiciona data points ao boxplot com stripplot\n",
    "    sns.stripplot(x=var, y='vlrliquido', data=data, jitter=0.1, alpha=0.3, color='k')\n",
    "    plt.show()"
   ]
  },
  {
   "cell_type": "markdown",
   "id": "93a9a458",
   "metadata": {},
   "source": [
    "Para o mês, podemos observar um aumento no valor líquido dos gastos conforme o fim do ano se aproxima e as legislaturas apresentam uma tendência de queda.\n",
    "\n",
    "Para algumas variáveis, não é possível observar tendências. É provável que algumas não sejam bons preditores para o Valor Líquido do gasto."
   ]
  },
  {
   "cell_type": "markdown",
   "id": "81abff7f",
   "metadata": {},
   "source": [
    "#### Variáveis contínuas"
   ]
  },
  {
   "cell_type": "code",
   "execution_count": 70,
   "id": "83c2e47a",
   "metadata": {},
   "outputs": [
    {
     "name": "stdout",
     "output_type": "stream",
     "text": [
      "Número de variáveis contínuas:  10\n"
     ]
    }
   ],
   "source": [
    "# Faz uma lista de variáveis contínuas\n",
    "cont_vars = [\n",
    "    var for var in num_vars if var not in discrete_vars+year_vars+month_vars]\n",
    "\n",
    "print('Número de variáveis contínuas: ', len(cont_vars))"
   ]
  },
  {
   "cell_type": "code",
   "execution_count": 71,
   "id": "cb0d618e",
   "metadata": {},
   "outputs": [
    {
     "data": {
      "text/html": [
       "<div>\n",
       "<style scoped>\n",
       "    .dataframe tbody tr th:only-of-type {\n",
       "        vertical-align: middle;\n",
       "    }\n",
       "\n",
       "    .dataframe tbody tr th {\n",
       "        vertical-align: top;\n",
       "    }\n",
       "\n",
       "    .dataframe thead th {\n",
       "        text-align: right;\n",
       "    }\n",
       "</style>\n",
       "<table border=\"1\" class=\"dataframe\">\n",
       "  <thead>\n",
       "    <tr style=\"text-align: right;\">\n",
       "      <th></th>\n",
       "      <th>idedocumento</th>\n",
       "      <th>idecadastro</th>\n",
       "      <th>nucarteiraparlamentar</th>\n",
       "      <th>nudeputadoid</th>\n",
       "      <th>numlote</th>\n",
       "      <th>numsubcota</th>\n",
       "      <th>txtcnpjcpf</th>\n",
       "      <th>vlrdocumento</th>\n",
       "      <th>vlrglosa</th>\n",
       "      <th>vlrrestituicao</th>\n",
       "    </tr>\n",
       "  </thead>\n",
       "  <tbody>\n",
       "    <tr>\n",
       "      <th>0</th>\n",
       "      <td>7007086</td>\n",
       "      <td>NaN</td>\n",
       "      <td>NaN</td>\n",
       "      <td>2442</td>\n",
       "      <td>1672803</td>\n",
       "      <td>5</td>\n",
       "      <td>27691290000113</td>\n",
       "      <td>998.0</td>\n",
       "      <td>0.0</td>\n",
       "      <td>NaN</td>\n",
       "    </tr>\n",
       "    <tr>\n",
       "      <th>1</th>\n",
       "      <td>7017162</td>\n",
       "      <td>NaN</td>\n",
       "      <td>NaN</td>\n",
       "      <td>2442</td>\n",
       "      <td>1677757</td>\n",
       "      <td>5</td>\n",
       "      <td>5265605000128</td>\n",
       "      <td>4920.0</td>\n",
       "      <td>0.0</td>\n",
       "      <td>NaN</td>\n",
       "    </tr>\n",
       "    <tr>\n",
       "      <th>2</th>\n",
       "      <td>7007754</td>\n",
       "      <td>NaN</td>\n",
       "      <td>NaN</td>\n",
       "      <td>2442</td>\n",
       "      <td>1673164</td>\n",
       "      <td>13</td>\n",
       "      <td>4538454000171</td>\n",
       "      <td>511.0</td>\n",
       "      <td>0.0</td>\n",
       "      <td>NaN</td>\n",
       "    </tr>\n",
       "    <tr>\n",
       "      <th>3</th>\n",
       "      <td>7018634</td>\n",
       "      <td>NaN</td>\n",
       "      <td>NaN</td>\n",
       "      <td>2442</td>\n",
       "      <td>1678458</td>\n",
       "      <td>13</td>\n",
       "      <td>4538454000171</td>\n",
       "      <td>186.0</td>\n",
       "      <td>0.0</td>\n",
       "      <td>NaN</td>\n",
       "    </tr>\n",
       "    <tr>\n",
       "      <th>4</th>\n",
       "      <td>7011106</td>\n",
       "      <td>NaN</td>\n",
       "      <td>NaN</td>\n",
       "      <td>2442</td>\n",
       "      <td>1674574</td>\n",
       "      <td>13</td>\n",
       "      <td>22836210000157</td>\n",
       "      <td>740.0</td>\n",
       "      <td>0.0</td>\n",
       "      <td>NaN</td>\n",
       "    </tr>\n",
       "  </tbody>\n",
       "</table>\n",
       "</div>"
      ],
      "text/plain": [
       "   idedocumento  idecadastro  nucarteiraparlamentar  nudeputadoid  numlote  \\\n",
       "0       7007086          NaN                    NaN          2442  1672803   \n",
       "1       7017162          NaN                    NaN          2442  1677757   \n",
       "2       7007754          NaN                    NaN          2442  1673164   \n",
       "3       7018634          NaN                    NaN          2442  1678458   \n",
       "4       7011106          NaN                    NaN          2442  1674574   \n",
       "\n",
       "   numsubcota      txtcnpjcpf  vlrdocumento  vlrglosa  vlrrestituicao  \n",
       "0           5  27691290000113         998.0       0.0             NaN  \n",
       "1           5   5265605000128        4920.0       0.0             NaN  \n",
       "2          13   4538454000171         511.0       0.0             NaN  \n",
       "3          13   4538454000171         186.0       0.0             NaN  \n",
       "4          13  22836210000157         740.0       0.0             NaN  "
      ]
     },
     "execution_count": 71,
     "metadata": {},
     "output_type": "execute_result"
    }
   ],
   "source": [
    "# vamos visualizar as variáveis contínuas\n",
    "\n",
    "data[cont_vars].head()"
   ]
  },
  {
   "cell_type": "code",
   "execution_count": 72,
   "id": "ca65b608",
   "metadata": {},
   "outputs": [
    {
     "data": {
      "image/png": "[encoded data removed]",
      "text/plain": [
       "<Figure size 1080x1080 with 12 Axes>"
      ]
     },
     "metadata": {
      "needs_background": "light"
     },
     "output_type": "display_data"
    }
   ],
   "source": [
    "# Vamos plotar histogramas para todas as variáveis contínuas\n",
    "data[cont_vars].hist(bins=30, figsize=(15,15))\n",
    "plt.show()"
   ]
  },
  {
   "cell_type": "markdown",
   "id": "dbb5b7e0",
   "metadata": {},
   "source": [
    "### Variáveis Categóricas"
   ]
  },
  {
   "cell_type": "markdown",
   "id": "cfed3cbb",
   "metadata": {},
   "source": [
    "Vamos seguir adiante e analisar as variáveis categóricas presentes no dataset."
   ]
  },
  {
   "cell_type": "code",
   "execution_count": 61,
   "id": "80718200",
   "metadata": {},
   "outputs": [
    {
     "name": "stdout",
     "output_type": "stream",
     "text": [
      "Número de variáveis categóricas:  10\n"
     ]
    }
   ],
   "source": [
    "print('Número de variáveis categóricas: ', len(cat_vars))"
   ]
  },
  {
   "cell_type": "code",
   "execution_count": 62,
   "id": "0ee07c0f",
   "metadata": {},
   "outputs": [
    {
     "data": {
      "text/html": [
       "<div>\n",
       "<style scoped>\n",
       "    .dataframe tbody tr th:only-of-type {\n",
       "        vertical-align: middle;\n",
       "    }\n",
       "\n",
       "    .dataframe tbody tr th {\n",
       "        vertical-align: top;\n",
       "    }\n",
       "\n",
       "    .dataframe thead th {\n",
       "        text-align: right;\n",
       "    }\n",
       "</style>\n",
       "<table border=\"1\" class=\"dataframe\">\n",
       "  <thead>\n",
       "    <tr style=\"text-align: right;\">\n",
       "      <th></th>\n",
       "      <th>datemissao</th>\n",
       "      <th>sgpartido</th>\n",
       "      <th>sguf</th>\n",
       "      <th>txnomeparlamentar</th>\n",
       "      <th>txtdescricao</th>\n",
       "      <th>txtdescricaoespecificacao</th>\n",
       "      <th>txtfornecedor</th>\n",
       "      <th>txtnumero</th>\n",
       "      <th>txtpassageiro</th>\n",
       "      <th>txttrecho</th>\n",
       "    </tr>\n",
       "  </thead>\n",
       "  <tbody>\n",
       "    <tr>\n",
       "      <th>0</th>\n",
       "      <td>2020-02-01 00:00:00</td>\n",
       "      <td>PSDB</td>\n",
       "      <td>NaN</td>\n",
       "      <td>LIDERANÇA DO PSDB</td>\n",
       "      <td>DIVULGAÇÃO DA ATIVIDADE PARLAMENTAR.</td>\n",
       "      <td>NaN</td>\n",
       "      <td>CONTENT ASSESSORIA LTDA - ME</td>\n",
       "      <td>432</td>\n",
       "      <td>NaN</td>\n",
       "      <td>NaN</td>\n",
       "    </tr>\n",
       "    <tr>\n",
       "      <th>1</th>\n",
       "      <td>2020-02-13 00:00:00</td>\n",
       "      <td>PSDB</td>\n",
       "      <td>NaN</td>\n",
       "      <td>LIDERANÇA DO PSDB</td>\n",
       "      <td>DIVULGAÇÃO DA ATIVIDADE PARLAMENTAR.</td>\n",
       "      <td>NaN</td>\n",
       "      <td>METROPOLE INTERATIVA INFORMATICA LTDA</td>\n",
       "      <td>46</td>\n",
       "      <td>NaN</td>\n",
       "      <td>NaN</td>\n",
       "    </tr>\n",
       "    <tr>\n",
       "      <th>2</th>\n",
       "      <td>2020-02-04 00:00:00</td>\n",
       "      <td>PSDB</td>\n",
       "      <td>NaN</td>\n",
       "      <td>LIDERANÇA DO PSDB</td>\n",
       "      <td>FORNECIMENTO DE ALIMENTAÇÃO DO PARLAMENTAR</td>\n",
       "      <td>NaN</td>\n",
       "      <td>AFC ALIMENTOS LTDA</td>\n",
       "      <td>306</td>\n",
       "      <td>NaN</td>\n",
       "      <td>NaN</td>\n",
       "    </tr>\n",
       "    <tr>\n",
       "      <th>3</th>\n",
       "      <td>2020-02-18 00:00:00</td>\n",
       "      <td>PSDB</td>\n",
       "      <td>NaN</td>\n",
       "      <td>LIDERANÇA DO PSDB</td>\n",
       "      <td>FORNECIMENTO DE ALIMENTAÇÃO DO PARLAMENTAR</td>\n",
       "      <td>NaN</td>\n",
       "      <td>AFC ALIMENTOS LTDA</td>\n",
       "      <td>311</td>\n",
       "      <td>NaN</td>\n",
       "      <td>NaN</td>\n",
       "    </tr>\n",
       "    <tr>\n",
       "      <th>4</th>\n",
       "      <td>2020-02-11 00:00:00</td>\n",
       "      <td>PSDB</td>\n",
       "      <td>NaN</td>\n",
       "      <td>LIDERANÇA DO PSDB</td>\n",
       "      <td>FORNECIMENTO DE ALIMENTAÇÃO DO PARLAMENTAR</td>\n",
       "      <td>NaN</td>\n",
       "      <td>ARTESANAL SERVICOS DE ALIMENTACAO E BUFFET EIRELI</td>\n",
       "      <td>23</td>\n",
       "      <td>NaN</td>\n",
       "      <td>NaN</td>\n",
       "    </tr>\n",
       "  </tbody>\n",
       "</table>\n",
       "</div>"
      ],
      "text/plain": [
       "            datemissao sgpartido sguf  txnomeparlamentar  \\\n",
       "0  2020-02-01 00:00:00      PSDB  NaN  LIDERANÇA DO PSDB   \n",
       "1  2020-02-13 00:00:00      PSDB  NaN  LIDERANÇA DO PSDB   \n",
       "2  2020-02-04 00:00:00      PSDB  NaN  LIDERANÇA DO PSDB   \n",
       "3  2020-02-18 00:00:00      PSDB  NaN  LIDERANÇA DO PSDB   \n",
       "4  2020-02-11 00:00:00      PSDB  NaN  LIDERANÇA DO PSDB   \n",
       "\n",
       "                                 txtdescricao txtdescricaoespecificacao  \\\n",
       "0        DIVULGAÇÃO DA ATIVIDADE PARLAMENTAR.                       NaN   \n",
       "1        DIVULGAÇÃO DA ATIVIDADE PARLAMENTAR.                       NaN   \n",
       "2  FORNECIMENTO DE ALIMENTAÇÃO DO PARLAMENTAR                       NaN   \n",
       "3  FORNECIMENTO DE ALIMENTAÇÃO DO PARLAMENTAR                       NaN   \n",
       "4  FORNECIMENTO DE ALIMENTAÇÃO DO PARLAMENTAR                       NaN   \n",
       "\n",
       "                                       txtfornecedor txtnumero txtpassageiro  \\\n",
       "0                       CONTENT ASSESSORIA LTDA - ME       432           NaN   \n",
       "1              METROPOLE INTERATIVA INFORMATICA LTDA        46           NaN   \n",
       "2                                 AFC ALIMENTOS LTDA       306           NaN   \n",
       "3                                 AFC ALIMENTOS LTDA       311           NaN   \n",
       "4  ARTESANAL SERVICOS DE ALIMENTACAO E BUFFET EIRELI        23           NaN   \n",
       "\n",
       "  txttrecho  \n",
       "0       NaN  \n",
       "1       NaN  \n",
       "2       NaN  \n",
       "3       NaN  \n",
       "4       NaN  "
      ]
     },
     "execution_count": 62,
     "metadata": {},
     "output_type": "execute_result"
    }
   ],
   "source": [
    "# Vamos visualizar os valores das variáveis categóricas\n",
    "data[cat_vars].head()"
   ]
  },
  {
   "cell_type": "markdown",
   "id": "c43df8ff",
   "metadata": {},
   "source": [
    "#### Número de categorias: cardinalidade"
   ]
  },
  {
   "cell_type": "markdown",
   "id": "71cd2ea2",
   "metadata": {},
   "source": [
    "Vamos avaliar quantas categorias estão presentes em cada uma das variáveis."
   ]
  },
  {
   "cell_type": "code",
   "execution_count": 63,
   "id": "96fc7320",
   "metadata": {},
   "outputs": [
    {
     "data": {
      "text/plain": [
       "<AxesSubplot:>"
      ]
     },
     "execution_count": 63,
     "metadata": {},
     "output_type": "execute_result"
    },
    {
     "data": {
      "image/png": "[encoded data removed]",
      "text/plain": [
       "<Figure size 864x360 with 1 Axes>"
      ]
     },
     "metadata": {
      "needs_background": "light"
     },
     "output_type": "display_data"
    }
   ],
   "source": [
    "# Nós contamos as categorias únicas com pandas unique() \n",
    "# e as plotamos em ordem descendente\n",
    "\n",
    "data[cat_vars].nunique().sort_values(ascending=False).plot.bar(figsize=(12,5))"
   ]
  },
  {
   "cell_type": "markdown",
   "id": "2e0fc821",
   "metadata": {},
   "source": [
    "#### Rótulos raros"
   ]
  },
  {
   "cell_type": "markdown",
   "id": "31afd986",
   "metadata": {},
   "source": [
    "Vamos seguir adiante a investigar se existem rótulos que estão presentes apenas em um pequeno número de registros."
   ]
  },
  {
   "cell_type": "code",
   "execution_count": 75,
   "id": "51a94258",
   "metadata": {},
   "outputs": [
    {
     "name": "stdout",
     "output_type": "stream",
     "text": [
      "datemissao\n",
      "1959-11-03 00:00:00    2.593597e-07\n",
      "2000-04-27 00:00:00    2.593597e-07\n",
      "2000-09-29 00:00:00    5.187194e-07\n",
      "2000-10-20 00:00:00    2.593597e-07\n",
      "2000-10-22 00:00:00    2.593597e-07\n",
      "                           ...     \n",
      "5012-06-28 00:00:00    2.593597e-07\n",
      "5020-10-23 00:00:00    2.593597e-07\n",
      "5201-05-03 00:00:00    2.593597e-07\n",
      "8201-08-27 00:00:00    2.593597e-07\n",
      "9009-11-03 00:00:00    2.593597e-07\n",
      "Name: vlrliquido, Length: 348119, dtype: float64\n",
      "\n",
      "sgpartido\n",
      "ATHOS AVELINO         2.593597e-07\n",
      "AVANTE                4.632683e-03\n",
      "CIDADANIA             1.417141e-03\n",
      "FERNANDO ESTIMA       2.593597e-07\n",
      "JOÃO FONTES           2.593597e-07\n",
      "LID.GOV-CD            3.008573e-05\n",
      "LID.GOV-CN            1.089311e-05\n",
      "LIDMIN                7.262072e-06\n",
      "LUIZ MOREIRA          5.187194e-07\n",
      "NOVO                  8.470688e-04\n",
      "PATRI                 3.843452e-03\n",
      "PATRIOTA              6.655170e-04\n",
      "PEN                   1.890732e-04\n",
      "PHS                   3.153036e-03\n",
      "PL                    5.071779e-03\n",
      "PMN                   2.104445e-03\n",
      "PPL                   5.775941e-04\n",
      "PROFESSOR LUIZINHO    5.187194e-07\n",
      "PRP                   1.047554e-03\n",
      "PRTB                  6.950840e-05\n",
      "PSDC                  6.120889e-05\n",
      "PSOL                  8.548755e-03\n",
      "PTC                   9.705240e-04\n",
      "PTN                   1.426478e-05\n",
      "PTdoB                 2.764515e-03\n",
      "REDE                  1.412992e-03\n",
      "REPUBLICANOS          3.877687e-03\n",
      "S.PART.               1.616589e-03\n",
      "SDD                   1.250114e-04\n",
      "SOLIDARIEDADE         7.284895e-03\n",
      "Name: vlrliquido, dtype: float64\n",
      "\n",
      "sguf\n",
      "AM    0.009450\n",
      "DF    0.007186\n",
      "RR    0.009514\n",
      "Name: vlrliquido, dtype: float64\n",
      "\n",
      "txnomeparlamentar\n",
      "ABEL MESQUITA JR.     0.000494\n",
      "ABELARDO CAMARINHA    0.000573\n",
      "ABELARDO LUPION       0.001113\n",
      "ACELINO POPÓ          0.000862\n",
      "ACÁCIO JÚNIOR         0.000006\n",
      "                        ...   \n",
      "Átila Lins            0.000723\n",
      "Átila Lira            0.000805\n",
      "Áurea Carolina        0.000174\n",
      "ÂNGELO AGNOLIN        0.000292\n",
      "ÍRIS DE ARAÚJO        0.001061\n",
      "Name: vlrliquido, Length: 1469, dtype: float64\n",
      "\n",
      "txtdescricao\n",
      "AQUISIÇÃO DE MATERIAL DE ESCRITÓRIO.                        0.000415\n",
      "AQUISIÇÃO OU LOC. DE SOFTWARE; SERV. POSTAIS; ASS.          0.000683\n",
      "ASSINATURA DE PUBLICAÇÕES                                   0.001743\n",
      "CONSULTORIAS, PESQUISAS E TRABALHOS TÉCNICOS.               0.007633\n",
      "LOCAÇÃO OU FRETAMENTO DE AERONAVES                          0.000505\n",
      "LOCAÇÃO OU FRETAMENTO DE EMBARCAÇÕES                        0.000070\n",
      "LOCAÇÃO OU FRETAMENTO DE VEÍCULOS AUTOMOTORES               0.009417\n",
      "LOCOMOÇÃO, ALIMENTAÇÃO E  HOSPEDAGEM                        0.004102\n",
      "PARTICIPAÇÃO EM CURSO, PALESTRA OU EVENTO SIMILAR           0.000033\n",
      "PASSAGENS AÉREAS                                            0.006453\n",
      "PASSAGENS TERRESTRES, MARÍTIMAS OU FLUVIAIS                 0.001663\n",
      "SERVIÇO DE SEGURANÇA PRESTADO POR EMPRESA ESPECIALIZADA.    0.002399\n",
      "Name: vlrliquido, dtype: float64\n",
      "\n",
      "txtdescricaoespecificacao\n",
      "Aeronaves             0.000688\n",
      "Embarcações           0.000152\n",
      "Sem especificações    0.005294\n",
      "Name: vlrliquido, dtype: float64\n",
      "\n",
      "txtfornecedor\n",
      "\"EMBAIXADA GASTRONOMICA BAR           2.593597e-07\n",
      "\"LUPA ALIMENTOS                       3.112316e-06\n",
      "\"OI\" TELEMAR NORTE LESTA S.A          2.593597e-07\n",
      "\"OI\" TELEMAR NORTE LESTE              2.593597e-07\n",
      "\"OI\" TNL PCS S.A                      2.852957e-06\n",
      "                                          ...     \n",
      "ÚNICA TECNOLOGIA COMERCIAL LTDA ME    7.780791e-06\n",
      "ÚTIMA PARADA DERIVADA DE PETRÓLEO     2.593597e-07\n",
      "águas guariroba s.a                   2.593597e-07\n",
      "área verde                            2.593597e-07\n",
      "ùnica Print Soluções Eirele - EPP     5.187194e-07\n",
      "Name: vlrliquido, Length: 219913, dtype: float64\n",
      "\n",
      "txtnumero\n",
      "\"SN                    5.187194e-07\n",
      "#112960227             2.593597e-07\n",
      "#112960567             2.593597e-07\n",
      "#50087253              2.593597e-07\n",
      "#50185756              2.593597e-07\n",
      "                           ...     \n",
      "´RUTIH9QCR751          2.593597e-07\n",
      "´T7VM1KLAC4LS          2.593597e-07\n",
      "Água Sorocaba Junho    2.593597e-07\n",
      "Í3TBE8A2C7LG           2.593597e-07\n",
      "Ônibus La              2.593597e-07\n",
      "Name: vlrliquido, Length: 2197972, dtype: float64\n",
      "\n",
      "txtpassageiro\n",
      "'HEULER LURI MARTINS           2.593597e-07\n",
      "'MARCELO DE LIMA CAVALCANTI    7.780791e-07\n",
      "'RINA MARIA BARREIRO           5.187194e-07\n",
      "-ADRIAN MUSSI RAMOS            2.593597e-07\n",
      "/ ALMEIDA/JUSSARA MRS          2.593597e-07\n",
      "                                   ...     \n",
      "ÂNGELO AGNOLIN                 3.112316e-06\n",
      "ÉDER FLORÊNCIO YANAGUITA       2.593597e-07\n",
      "ÉDIO VIEIRA LOPES;             1.037439e-06\n",
      "ÉRIKA JUCÁ KOKAY;              2.593597e-07\n",
      "ÍRIS DE ARAÚJO                 5.705914e-06\n",
      "Name: vlrliquido, Length: 37025, dtype: float64\n",
      "\n",
      "txttrecho\n",
      "(MGF) MARINGÁ - (CWB) CURITIBA                                   2.593597e-07\n",
      "(POA) (BSB)                                                      2.593597e-07\n",
      "- Brasilia - João Pessoa                                         2.593597e-07\n",
      "- ssabsb                                                         2.593597e-07\n",
      "05 FRETAMENTOS CONFORME ESPECIFICADO NO CORPO DA NOTA FISCAL.    2.593597e-07\n",
      "                                                                     ...     \n",
      " UDI/SDU                                                         2.593597e-07\n",
      " VDC/SSA                                                         2.334237e-06\n",
      " VIX/CGB                                                         2.593597e-07\n",
      "´Brasília / Fortaleza                                            2.593597e-07\n",
      "´MACEIÓ/BRASILIA                                                 2.593597e-07\n",
      "Name: vlrliquido, Length: 20631, dtype: float64\n",
      "\n"
     ]
    }
   ],
   "source": [
    "def analyse_rare_labels(df, var, rare_perc):\n",
    "    df = df.copy()\n",
    "\n",
    "    # determina a porcentagem de observações por categoria\n",
    "    tmp = df.groupby(var)['vlrliquido'].count() / len(df)\n",
    "\n",
    "    # retorna as categorias que são raras\n",
    "    return tmp[tmp < rare_perc]\n",
    "\n",
    "# imprime as categorias que estão presentes em menos de\n",
    "# 1 % das observações\n",
    "\n",
    "for var in cat_vars:\n",
    "    print(analyse_rare_labels(data, var, 0.01))\n",
    "    print()"
   ]
  },
  {
   "cell_type": "markdown",
   "id": "d58d3709",
   "metadata": {},
   "source": [
    "Algumas variáveis categóricas mostram múltiplos rótulos que representam menos de 1% das observações.\n",
    "\n",
    "Rótulos que estão sub-representados no dataset tendem a causar over-fitting em modelos de machine learning.\n",
    "\n",
    "É por isso que queremos removê-los.\n",
    "\n",
    "Finalmente, nós queremos explorar a relação entre as categorias de diferents variáveis e o valor líquido do gasto:"
   ]
  },
  {
   "cell_type": "markdown",
   "id": "b26a9ed8",
   "metadata": {},
   "source": [
    "**Aviso:**\n",
    "\n",
    "Certamente há bem mais a ser feito para entender a natureza desses dados e o relacionamento entre as variáveis com a variável alvo, vlrliquido. E também sobre a distribuição das variáveis em si.\n",
    "\n",
    "Este notebook faz parte de um estudo que está em constante desenvolvimento."
   ]
  }
 ],
 "metadata": {
  "kernelspec": {
   "display_name": "Python 3 (ipykernel)",
   "language": "python",
   "name": "python3"
  },
  "language_info": {
   "codemirror_mode": {
    "name": "ipython",
    "version": 3
   },
   "file_extension": ".py",
   "mimetype": "text/x-python",
   "name": "python",
   "nbconvert_exporter": "python",
   "pygments_lexer": "ipython3",
   "version": "3.8.12"
  },
  "toc": {
   "base_numbering": 1,
   "nav_menu": {
    "height": "326px",
    "width": "473px"
   },
   "number_sections": true,
   "sideBar": true,
   "skip_h1_title": false,
   "title_cell": "Table of Contents",
   "title_sidebar": "Contents",
   "toc_cell": false,
   "toc_position": {},
   "toc_section_display": true,
   "toc_window_display": false
  }
 },
 "nbformat": 4,
 "nbformat_minor": 5
}
